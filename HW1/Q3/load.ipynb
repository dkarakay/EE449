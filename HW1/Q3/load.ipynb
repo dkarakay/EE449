{
 "cells": [
  {
   "cell_type": "code",
   "execution_count": 1,
   "outputs": [
    {
     "name": "stdout",
     "output_type": "stream",
     "text": [
      "dict_keys(['name', 'loss_curve', 'train_acc_curve', 'val_acc_curve', 'test_acc', 'weights'])\n"
     ]
    },
    {
     "name": "stderr",
     "output_type": "stream",
     "text": [
      "/Users/sedna/local-dev/METU/EE449/HW1/utils/utils.py:397: UserWarning: Matplotlib is currently using module://matplotlib_inline.backend_inline, which is a non-GUI backend, so cannot show the figure.\n",
      "  fig.show()\n"
     ]
    },
    {
     "data": {
      "text/plain": "<Figure size 640x480 with 9 Axes>",
      "image/png": "[encoded data removed]"
     },
     "metadata": {},
     "output_type": "display_data"
    }
   ],
   "source": [
    "import pickle\n",
    "from utils.utils import visualizeWeights\n",
    "\n",
    "for name in ['cnn5']:\n",
    "    filename = f'results/{name}/question_3_{name}.pkl'\n",
    "    with open(filename, 'rb') as f:\n",
    "        loaded_dict = pickle.load(f)\n",
    "        print(loaded_dict.keys())\n",
    "        best_weights = loaded_dict['weights']\n",
    "\n",
    "        visualizeWeights(best_weights, save_dir='results/',\n",
    "                     filename='question_3_weights_' + 'cnn5'.replace(' ', '_'))"
   ],
   "metadata": {
    "collapsed": false
   }
  },
  {
   "cell_type": "code",
   "execution_count": null,
   "outputs": [],
   "source": [],
   "metadata": {
    "collapsed": false
   }
  },
  {
   "cell_type": "code",
   "execution_count": null,
   "outputs": [],
   "source": [],
   "metadata": {
    "collapsed": false
   }
  }
 ],
 "metadata": {
  "kernelspec": {
   "display_name": "Python 3",
   "language": "python",
   "name": "python3"
  },
  "language_info": {
   "codemirror_mode": {
    "name": "ipython",
    "version": 2
   },
   "file_extension": ".py",
   "mimetype": "text/x-python",
   "name": "python",
   "nbconvert_exporter": "python",
   "pygments_lexer": "ipython2",
   "version": "2.7.6"
  }
 },
 "nbformat": 4,
 "nbformat_minor": 0
}
