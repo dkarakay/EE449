{
 "cells": [
  {
   "cell_type": "code",
   "execution_count": 3,
   "outputs": [
    {
     "name": "stdout",
     "output_type": "stream",
     "text": [
      "dict_keys(['name', 'loss_curve', 'train_acc_curve', 'val_acc_curve', 'test_acc', 'weights'])\n",
      "63.24999999999999\n"
     ]
    }
   ],
   "source": [
    "import pickle\n",
    "from utils.utils import visualizeWeights\n",
    "\n",
    "for name in ['cnn4']:\n",
    "    filename = f'results/{name}/question_3_{name}.pkl'\n",
    "    with open(filename, 'rb') as f:\n",
    "        loaded_dict = pickle.load(f)\n",
    "        print(loaded_dict.keys())\n",
    "        print(loaded_dict['test_acc'])"
   ],
   "metadata": {
    "collapsed": false
   }
  },
  {
   "cell_type": "code",
   "execution_count": null,
   "outputs": [],
   "source": [],
   "metadata": {
    "collapsed": false
   }
  },
  {
   "cell_type": "code",
   "execution_count": null,
   "outputs": [],
   "source": [],
   "metadata": {
    "collapsed": false
   }
  }
 ],
 "metadata": {
  "kernelspec": {
   "display_name": "Python 3",
   "language": "python",
   "name": "python3"
  },
  "language_info": {
   "codemirror_mode": {
    "name": "ipython",
    "version": 2
   },
   "file_extension": ".py",
   "mimetype": "text/x-python",
   "name": "python",
   "nbconvert_exporter": "python",
   "pygments_lexer": "ipython2",
   "version": "2.7.6"
  }
 },
 "nbformat": 4,
 "nbformat_minor": 0
}
